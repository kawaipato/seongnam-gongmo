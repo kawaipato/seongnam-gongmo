{
 "cells": [
  {
   "cell_type": "code",
   "execution_count": 6,
   "id": "896461c0",
   "metadata": {},
   "outputs": [],
   "source": [
    "import pandas as pd\n",
    "import numpy as np\n",
    "import matplotlib.pyplot as plt\n",
    "import seaborn as sns\n",
    "#한글설정\n",
    "import matplotlib.pyplot as plt\n",
    "from matplotlib import rc\n",
    "%matplotlib inline\n",
    "rc('font', family='AppleGothic')\n",
    "\n",
    "plt.rcParams['axes.unicode_minus'] = False\n",
    "import warnings\n",
    "warnings.filterwarnings(action='ignore')"
   ]
  },
  {
   "cell_type": "code",
   "execution_count": 59,
   "id": "45a3ceba",
   "metadata": {},
   "outputs": [
    {
     "data": {
      "text/html": [
       "<div>\n",
       "<style scoped>\n",
       "    .dataframe tbody tr th:only-of-type {\n",
       "        vertical-align: middle;\n",
       "    }\n",
       "\n",
       "    .dataframe tbody tr th {\n",
       "        vertical-align: top;\n",
       "    }\n",
       "\n",
       "    .dataframe thead th {\n",
       "        text-align: right;\n",
       "    }\n",
       "</style>\n",
       "<table border=\"1\" class=\"dataframe\">\n",
       "  <thead>\n",
       "    <tr style=\"text-align: right;\">\n",
       "      <th></th>\n",
       "      <th>gid</th>\n",
       "      <th>cctv</th>\n",
       "      <th>light</th>\n",
       "      <th>log_pa</th>\n",
       "      <th>ep</th>\n",
       "      <th>fp</th>\n",
       "      <th>yp</th>\n",
       "      <th>nb</th>\n",
       "    </tr>\n",
       "  </thead>\n",
       "  <tbody>\n",
       "    <tr>\n",
       "      <th>0</th>\n",
       "      <td>ㅼ_58ab30ba</td>\n",
       "      <td>-0.5</td>\n",
       "      <td>-0.5</td>\n",
       "      <td>2.098018</td>\n",
       "      <td>-0.316027</td>\n",
       "      <td>-0.331228</td>\n",
       "      <td>-0.323077</td>\n",
       "      <td>1.1</td>\n",
       "    </tr>\n",
       "    <tr>\n",
       "      <th>1</th>\n",
       "      <td>ㅼ_58bb30ab</td>\n",
       "      <td>-0.5</td>\n",
       "      <td>-0.5</td>\n",
       "      <td>2.050013</td>\n",
       "      <td>-0.343115</td>\n",
       "      <td>-0.341053</td>\n",
       "      <td>-0.323077</td>\n",
       "      <td>1.1</td>\n",
       "    </tr>\n",
       "    <tr>\n",
       "      <th>2</th>\n",
       "      <td>ㅼ_59aa30aa</td>\n",
       "      <td>-0.5</td>\n",
       "      <td>-0.5</td>\n",
       "      <td>2.050013</td>\n",
       "      <td>-0.343115</td>\n",
       "      <td>-0.341053</td>\n",
       "      <td>-0.323077</td>\n",
       "      <td>1.1</td>\n",
       "    </tr>\n",
       "    <tr>\n",
       "      <th>3</th>\n",
       "      <td>ㅼ_59aa30ab</td>\n",
       "      <td>-0.5</td>\n",
       "      <td>-0.5</td>\n",
       "      <td>2.050013</td>\n",
       "      <td>-0.343115</td>\n",
       "      <td>-0.341053</td>\n",
       "      <td>-0.323077</td>\n",
       "      <td>2.1</td>\n",
       "    </tr>\n",
       "    <tr>\n",
       "      <th>4</th>\n",
       "      <td>ㅼ_59ab30aa</td>\n",
       "      <td>0.0</td>\n",
       "      <td>0.0</td>\n",
       "      <td>1.930071</td>\n",
       "      <td>-0.343115</td>\n",
       "      <td>-0.341053</td>\n",
       "      <td>-0.323077</td>\n",
       "      <td>3.1</td>\n",
       "    </tr>\n",
       "  </tbody>\n",
       "</table>\n",
       "</div>"
      ],
      "text/plain": [
       "          gid  cctv  light    log_pa        ep        fp        yp   nb\n",
       "0  ㅼ_58ab30ba  -0.5   -0.5  2.098018 -0.316027 -0.331228 -0.323077  1.1\n",
       "1  ㅼ_58bb30ab  -0.5   -0.5  2.050013 -0.343115 -0.341053 -0.323077  1.1\n",
       "2  ㅼ_59aa30aa  -0.5   -0.5  2.050013 -0.343115 -0.341053 -0.323077  1.1\n",
       "3  ㅼ_59aa30ab  -0.5   -0.5  2.050013 -0.343115 -0.341053 -0.323077  2.1\n",
       "4  ㅼ_59ab30aa   0.0    0.0  1.930071 -0.343115 -0.341053 -0.323077  3.1"
      ]
     },
     "execution_count": 59,
     "metadata": {},
     "output_type": "execute_result"
    }
   ],
   "source": [
    "df = pd.read_csv('data_con_std3.csv',encoding='euc-kr')\n",
    "df_based = df.copy()\n",
    "#year, cctv, light 모두 범주형 변수로 처리\n",
    "# df['year']=df['year'].astype('category')\n",
    "# df['light']=df['light'].astype('category')\n",
    "# df['cctv']=df['cctv'].astype('category')\n",
    "# df=df.drop(columns=['gid'])\n",
    "df['nb']=df.nb + 0.1\n",
    "df.head()"
   ]
  },
  {
   "cell_type": "code",
   "execution_count": 64,
   "id": "b0885128",
   "metadata": {},
   "outputs": [
    {
     "data": {
      "text/plain": [
       "array([ 0.09548226,  0.09548226,  0.09548226, ...,  2.85902677,\n",
       "        1.68051052, -2.20512402])"
      ]
     },
     "execution_count": 64,
     "metadata": {},
     "output_type": "execute_result"
    }
   ],
   "source": [
    "from scipy import stats\n",
    "# Box-Cox 변환 적용\n",
    "df['nb'], lambda_value = stats.boxcox(df.nb)\n",
    "nb"
   ]
  },
  {
   "cell_type": "code",
   "execution_count": 62,
   "id": "1cb3d583",
   "metadata": {},
   "outputs": [
    {
     "data": {
      "text/plain": [
       "{'whiskers': [<matplotlib.lines.Line2D at 0x282d496f0>,\n",
       "  <matplotlib.lines.Line2D at 0x282d48c10>],\n",
       " 'caps': [<matplotlib.lines.Line2D at 0x282af08b0>,\n",
       "  <matplotlib.lines.Line2D at 0x282af24a0>],\n",
       " 'boxes': [<matplotlib.lines.Line2D at 0x282d488b0>],\n",
       " 'medians': [<matplotlib.lines.Line2D at 0x282af2560>],\n",
       " 'fliers': [<matplotlib.lines.Line2D at 0x282d6d150>],\n",
       " 'means': []}"
      ]
     },
     "execution_count": 62,
     "metadata": {},
     "output_type": "execute_result"
    },
    {
     "data": {
      "image/png": "[encoded data removed]",
      "text/plain": [
       "<Figure size 640x480 with 1 Axes>"
      ]
     },
     "metadata": {},
     "output_type": "display_data"
    }
   ],
   "source": [
    "plt.boxplot(nb)"
   ]
  },
  {
   "cell_type": "code",
   "execution_count": null,
   "id": "d475d2fb",
   "metadata": {},
   "outputs": [],
   "source": []
  },
  {
   "cell_type": "code",
   "execution_count": null,
   "id": "028bfc4c",
   "metadata": {},
   "outputs": [],
   "source": []
  },
  {
   "cell_type": "code",
   "execution_count": null,
   "id": "7a11b386",
   "metadata": {},
   "outputs": [],
   "source": []
  },
  {
   "cell_type": "code",
   "execution_count": 10,
   "id": "34398e52",
   "metadata": {},
   "outputs": [
    {
     "data": {
      "text/plain": [
       "<AxesSubplot: >"
      ]
     },
     "execution_count": 10,
     "metadata": {},
     "output_type": "execute_result"
    },
    {
     "data": {
      "image/png": "[encoded data removed]",
      "text/plain": [
       "<Figure size 640x480 with 1 Axes>"
      ]
     },
     "metadata": {},
     "output_type": "display_data"
    }
   ],
   "source": [
    "df['nb'].hist()"
   ]
  },
  {
   "cell_type": "code",
   "execution_count": 19,
   "id": "37803801",
   "metadata": {},
   "outputs": [
    {
     "data": {
      "text/plain": [
       "(array([262.,   0.,  81., 197., 232., 103.,  67.,  54.,  31.,  23.]),\n",
       " array([0.        , 0.36411284, 0.72822568, 1.09233852, 1.45645136,\n",
       "        1.8205642 , 2.18467704, 2.54878988, 2.91290272, 3.27701557,\n",
       "        3.64112841]),\n",
       " <BarContainer object of 10 artists>)"
      ]
     },
     "execution_count": 19,
     "metadata": {},
     "output_type": "execute_result"
    },
    {
     "data": {
      "image/png": "[encoded data removed]",
      "text/plain": [
       "<Figure size 640x480 with 1 Axes>"
      ]
     },
     "metadata": {},
     "output_type": "display_data"
    }
   ],
   "source": [
    "nb_new = df.nb ** 0.2\n",
    "plt.hist(nb_new)"
   ]
  },
  {
   "cell_type": "code",
   "execution_count": 45,
   "id": "97f0126a",
   "metadata": {
    "scrolled": false
   },
   "outputs": [
    {
     "name": "stdout",
     "output_type": "stream",
     "text": [
      "첨도 : 0.43927384957658977\n",
      "왜도 : -0.1981513025807411\n",
      "shaprio : ShapiroResult(statistic=0.9295989274978638, pvalue=8.440461810276143e-22)\n",
      "normaltest : NormaltestResult(statistic=33.26438057183269, pvalue=5.980417957244775e-08)\n"
     ]
    },
    {
     "data": {
      "image/png": "[encoded data removed]",
      "text/plain": [
       "<Figure size 640x480 with 1 Axes>"
      ]
     },
     "metadata": {},
     "output_type": "display_data"
    }
   ],
   "source": [
    "from scipy.stats import skew\n",
    "from scipy.stats import kurtosis\n",
    "from scipy.stats import shapiro\n",
    "from scipy.stats import anderson\n",
    "from scipy.stats import normaltest\n",
    "\n",
    "df['nb_new']=df.nb ** 0.25\n",
    "print('첨도 :',skew(df.nb_new))\n",
    "print('왜도 :',kurtosis(df.nb_new))\n",
    "print('shaprio :',shapiro(df.nb_new))\n",
    "print('normaltest :',normaltest(df.nb_new))\n",
    "\n",
    "plt.hist(df.nb_new)\n",
    "plt.show()"
   ]
  },
  {
   "cell_type": "code",
   "execution_count": 38,
   "id": "1ef1ce37",
   "metadata": {},
   "outputs": [
    {
     "data": {
      "text/plain": [
       "<AxesSubplot: >"
      ]
     },
     "execution_count": 38,
     "metadata": {},
     "output_type": "execute_result"
    },
    {
     "data": {
      "image/png": "[encoded data removed]",
      "text/plain": [
       "<Figure size 640x480 with 1 Axes>"
      ]
     },
     "metadata": {},
     "output_type": "display_data"
    }
   ],
   "source": [
    "sns.boxplot(df.nb)"
   ]
  },
  {
   "cell_type": "code",
   "execution_count": 54,
   "id": "67314c3e",
   "metadata": {},
   "outputs": [
    {
     "data": {
      "text/html": [
       "<div>\n",
       "<style scoped>\n",
       "    .dataframe tbody tr th:only-of-type {\n",
       "        vertical-align: middle;\n",
       "    }\n",
       "\n",
       "    .dataframe tbody tr th {\n",
       "        vertical-align: top;\n",
       "    }\n",
       "\n",
       "    .dataframe thead th {\n",
       "        text-align: right;\n",
       "    }\n",
       "</style>\n",
       "<table border=\"1\" class=\"dataframe\">\n",
       "  <thead>\n",
       "    <tr style=\"text-align: right;\">\n",
       "      <th></th>\n",
       "      <th>nb</th>\n",
       "    </tr>\n",
       "  </thead>\n",
       "  <tbody>\n",
       "    <tr>\n",
       "      <th>0</th>\n",
       "      <td>-0.240964</td>\n",
       "    </tr>\n",
       "    <tr>\n",
       "      <th>1</th>\n",
       "      <td>-0.240964</td>\n",
       "    </tr>\n",
       "    <tr>\n",
       "      <th>2</th>\n",
       "      <td>-0.240964</td>\n",
       "    </tr>\n",
       "    <tr>\n",
       "      <th>3</th>\n",
       "      <td>-0.192771</td>\n",
       "    </tr>\n",
       "    <tr>\n",
       "      <th>4</th>\n",
       "      <td>-0.144578</td>\n",
       "    </tr>\n",
       "  </tbody>\n",
       "</table>\n",
       "</div>"
      ],
      "text/plain": [
       "         nb\n",
       "0 -0.240964\n",
       "1 -0.240964\n",
       "2 -0.240964\n",
       "3 -0.192771\n",
       "4 -0.144578"
      ]
     },
     "execution_count": 54,
     "metadata": {},
     "output_type": "execute_result"
    }
   ],
   "source": [
    "from sklearn.preprocessing import RobustScaler\n",
    "scaler = RobustScaler()\n",
    "df2=df[['nb']]\n",
    "df2_std = scaler.fit_transform(df2)\n",
    "df2_std = pd.DataFrame(df2_std, columns=['nb'])\n",
    "\n",
    "# 결과 확인\n",
    "df2_std.head()\n",
    "# df_ok.drop(columns=['pa','ep','fp','yp','nb'],inplace=True)\n",
    "# df_ok = pd.concat([df_ok, df2_std], axis=1)"
   ]
  },
  {
   "cell_type": "code",
   "execution_count": 55,
   "id": "a487c09e",
   "metadata": {},
   "outputs": [
    {
     "data": {
      "text/html": [
       "<div>\n",
       "<style scoped>\n",
       "    .dataframe tbody tr th:only-of-type {\n",
       "        vertical-align: middle;\n",
       "    }\n",
       "\n",
       "    .dataframe tbody tr th {\n",
       "        vertical-align: top;\n",
       "    }\n",
       "\n",
       "    .dataframe thead th {\n",
       "        text-align: right;\n",
       "    }\n",
       "</style>\n",
       "<table border=\"1\" class=\"dataframe\">\n",
       "  <thead>\n",
       "    <tr style=\"text-align: right;\">\n",
       "      <th></th>\n",
       "      <th>gid</th>\n",
       "      <th>cctv</th>\n",
       "      <th>light</th>\n",
       "      <th>log_pa</th>\n",
       "      <th>ep</th>\n",
       "      <th>fp</th>\n",
       "      <th>yp</th>\n",
       "      <th>nb_new</th>\n",
       "      <th>nb</th>\n",
       "    </tr>\n",
       "  </thead>\n",
       "  <tbody>\n",
       "    <tr>\n",
       "      <th>0</th>\n",
       "      <td>ㅼ_58ab30ba</td>\n",
       "      <td>-0.5</td>\n",
       "      <td>-0.5</td>\n",
       "      <td>2.098018</td>\n",
       "      <td>-0.316027</td>\n",
       "      <td>-0.331228</td>\n",
       "      <td>-0.323077</td>\n",
       "      <td>1.000000</td>\n",
       "      <td>-0.240964</td>\n",
       "    </tr>\n",
       "    <tr>\n",
       "      <th>1</th>\n",
       "      <td>ㅼ_58bb30ab</td>\n",
       "      <td>-0.5</td>\n",
       "      <td>-0.5</td>\n",
       "      <td>2.050013</td>\n",
       "      <td>-0.343115</td>\n",
       "      <td>-0.341053</td>\n",
       "      <td>-0.323077</td>\n",
       "      <td>1.000000</td>\n",
       "      <td>-0.240964</td>\n",
       "    </tr>\n",
       "    <tr>\n",
       "      <th>2</th>\n",
       "      <td>ㅼ_59aa30aa</td>\n",
       "      <td>-0.5</td>\n",
       "      <td>-0.5</td>\n",
       "      <td>2.050013</td>\n",
       "      <td>-0.343115</td>\n",
       "      <td>-0.341053</td>\n",
       "      <td>-0.323077</td>\n",
       "      <td>1.000000</td>\n",
       "      <td>-0.240964</td>\n",
       "    </tr>\n",
       "    <tr>\n",
       "      <th>3</th>\n",
       "      <td>ㅼ_59aa30ab</td>\n",
       "      <td>-0.5</td>\n",
       "      <td>-0.5</td>\n",
       "      <td>2.050013</td>\n",
       "      <td>-0.343115</td>\n",
       "      <td>-0.341053</td>\n",
       "      <td>-0.323077</td>\n",
       "      <td>1.189207</td>\n",
       "      <td>-0.192771</td>\n",
       "    </tr>\n",
       "    <tr>\n",
       "      <th>4</th>\n",
       "      <td>ㅼ_59ab30aa</td>\n",
       "      <td>0.0</td>\n",
       "      <td>0.0</td>\n",
       "      <td>1.930071</td>\n",
       "      <td>-0.343115</td>\n",
       "      <td>-0.341053</td>\n",
       "      <td>-0.323077</td>\n",
       "      <td>1.316074</td>\n",
       "      <td>-0.144578</td>\n",
       "    </tr>\n",
       "  </tbody>\n",
       "</table>\n",
       "</div>"
      ],
      "text/plain": [
       "          gid  cctv  light    log_pa        ep        fp        yp    nb_new  \\\n",
       "0  ㅼ_58ab30ba  -0.5   -0.5  2.098018 -0.316027 -0.331228 -0.323077  1.000000   \n",
       "1  ㅼ_58bb30ab  -0.5   -0.5  2.050013 -0.343115 -0.341053 -0.323077  1.000000   \n",
       "2  ㅼ_59aa30aa  -0.5   -0.5  2.050013 -0.343115 -0.341053 -0.323077  1.000000   \n",
       "3  ㅼ_59aa30ab  -0.5   -0.5  2.050013 -0.343115 -0.341053 -0.323077  1.189207   \n",
       "4  ㅼ_59ab30aa   0.0    0.0  1.930071 -0.343115 -0.341053 -0.323077  1.316074   \n",
       "\n",
       "         nb  \n",
       "0 -0.240964  \n",
       "1 -0.240964  \n",
       "2 -0.240964  \n",
       "3 -0.192771  \n",
       "4 -0.144578  "
      ]
     },
     "execution_count": 55,
     "metadata": {},
     "output_type": "execute_result"
    }
   ],
   "source": [
    "df.drop(columns='nb',inplace=True)\n",
    "df = pd.concat([df, df2_std], axis=1)\n",
    "df.head()"
   ]
  },
  {
   "cell_type": "code",
   "execution_count": 42,
   "id": "63349d5d",
   "metadata": {},
   "outputs": [
    {
     "data": {
      "text/plain": [
       "<AxesSubplot: >"
      ]
     },
     "execution_count": 42,
     "metadata": {},
     "output_type": "execute_result"
    },
    {
     "data": {
      "image/png": "[encoded data removed]",
      "text/plain": [
       "<Figure size 640x480 with 1 Axes>"
      ]
     },
     "metadata": {},
     "output_type": "display_data"
    }
   ],
   "source": [
    "sns.boxplot(df.nb)"
   ]
  },
  {
   "cell_type": "code",
   "execution_count": 50,
   "id": "a3cd39e5",
   "metadata": {
    "scrolled": false
   },
   "outputs": [
    {
     "data": {
      "text/plain": [
       "0      262\n",
       "1       81\n",
       "2       59\n",
       "5       40\n",
       "3       39\n",
       "      ... \n",
       "38       1\n",
       "116      1\n",
       "329      1\n",
       "141      1\n",
       "120      1\n",
       "Name: nb, Length: 174, dtype: int64"
      ]
     },
     "execution_count": 50,
     "metadata": {},
     "output_type": "execute_result"
    }
   ],
   "source": [
    "df.nb.value_counts()"
   ]
  },
  {
   "cell_type": "code",
   "execution_count": 65,
   "id": "697f58a0",
   "metadata": {},
   "outputs": [
    {
     "data": {
      "text/plain": [
       "<AxesSubplot: >"
      ]
     },
     "execution_count": 65,
     "metadata": {},
     "output_type": "execute_result"
    },
    {
     "data": {
      "image/png": "[encoded data removed]",
      "text/plain": [
       "<Figure size 640x480 with 1 Axes>"
      ]
     },
     "metadata": {},
     "output_type": "display_data"
    }
   ],
   "source": [
    "df.boxplot()"
   ]
  },
  {
   "cell_type": "code",
   "execution_count": 66,
   "id": "12dc0d91",
   "metadata": {},
   "outputs": [
    {
     "data": {
      "text/html": [
       "<div>\n",
       "<style scoped>\n",
       "    .dataframe tbody tr th:only-of-type {\n",
       "        vertical-align: middle;\n",
       "    }\n",
       "\n",
       "    .dataframe tbody tr th {\n",
       "        vertical-align: top;\n",
       "    }\n",
       "\n",
       "    .dataframe thead th {\n",
       "        text-align: right;\n",
       "    }\n",
       "</style>\n",
       "<table border=\"1\" class=\"dataframe\">\n",
       "  <thead>\n",
       "    <tr style=\"text-align: right;\">\n",
       "      <th></th>\n",
       "      <th>gid</th>\n",
       "      <th>cctv</th>\n",
       "      <th>light</th>\n",
       "      <th>log_pa</th>\n",
       "      <th>ep</th>\n",
       "      <th>fp</th>\n",
       "      <th>yp</th>\n",
       "      <th>nb</th>\n",
       "    </tr>\n",
       "  </thead>\n",
       "  <tbody>\n",
       "    <tr>\n",
       "      <th>0</th>\n",
       "      <td>ㅼ_58ab30ba</td>\n",
       "      <td>-0.5</td>\n",
       "      <td>-0.5</td>\n",
       "      <td>2.098018</td>\n",
       "      <td>-0.316027</td>\n",
       "      <td>-0.331228</td>\n",
       "      <td>-0.323077</td>\n",
       "      <td>0.095482</td>\n",
       "    </tr>\n",
       "    <tr>\n",
       "      <th>1</th>\n",
       "      <td>ㅼ_58bb30ab</td>\n",
       "      <td>-0.5</td>\n",
       "      <td>-0.5</td>\n",
       "      <td>2.050013</td>\n",
       "      <td>-0.343115</td>\n",
       "      <td>-0.341053</td>\n",
       "      <td>-0.323077</td>\n",
       "      <td>0.095482</td>\n",
       "    </tr>\n",
       "    <tr>\n",
       "      <th>2</th>\n",
       "      <td>ㅼ_59aa30aa</td>\n",
       "      <td>-0.5</td>\n",
       "      <td>-0.5</td>\n",
       "      <td>2.050013</td>\n",
       "      <td>-0.343115</td>\n",
       "      <td>-0.341053</td>\n",
       "      <td>-0.323077</td>\n",
       "      <td>0.095482</td>\n",
       "    </tr>\n",
       "    <tr>\n",
       "      <th>3</th>\n",
       "      <td>ㅼ_59aa30ab</td>\n",
       "      <td>-0.5</td>\n",
       "      <td>-0.5</td>\n",
       "      <td>2.050013</td>\n",
       "      <td>-0.343115</td>\n",
       "      <td>-0.341053</td>\n",
       "      <td>-0.323077</td>\n",
       "      <td>0.752450</td>\n",
       "    </tr>\n",
       "    <tr>\n",
       "      <th>4</th>\n",
       "      <td>ㅼ_59ab30aa</td>\n",
       "      <td>0.0</td>\n",
       "      <td>0.0</td>\n",
       "      <td>1.930071</td>\n",
       "      <td>-0.343115</td>\n",
       "      <td>-0.341053</td>\n",
       "      <td>-0.323077</td>\n",
       "      <td>1.155970</td>\n",
       "    </tr>\n",
       "  </tbody>\n",
       "</table>\n",
       "</div>"
      ],
      "text/plain": [
       "          gid  cctv  light    log_pa        ep        fp        yp        nb\n",
       "0  ㅼ_58ab30ba  -0.5   -0.5  2.098018 -0.316027 -0.331228 -0.323077  0.095482\n",
       "1  ㅼ_58bb30ab  -0.5   -0.5  2.050013 -0.343115 -0.341053 -0.323077  0.095482\n",
       "2  ㅼ_59aa30aa  -0.5   -0.5  2.050013 -0.343115 -0.341053 -0.323077  0.095482\n",
       "3  ㅼ_59aa30ab  -0.5   -0.5  2.050013 -0.343115 -0.341053 -0.323077  0.752450\n",
       "4  ㅼ_59ab30aa   0.0    0.0  1.930071 -0.343115 -0.341053 -0.323077  1.155970"
      ]
     },
     "execution_count": 66,
     "metadata": {},
     "output_type": "execute_result"
    }
   ],
   "source": [
    "df.head()"
   ]
  },
  {
   "cell_type": "code",
   "execution_count": 67,
   "id": "4d44fa15",
   "metadata": {},
   "outputs": [],
   "source": [
    "df.to_csv('boxcox.csv',encoding='euc-kr')"
   ]
  },
  {
   "cell_type": "code",
   "execution_count": null,
   "id": "6382736f",
   "metadata": {},
   "outputs": [],
   "source": []
  }
 ],
 "metadata": {
  "kernelspec": {
   "display_name": "Python 3 (ipykernel)",
   "language": "python",
   "name": "python3"
  },
  "language_info": {
   "codemirror_mode": {
    "name": "ipython",
    "version": 3
   },
   "file_extension": ".py",
   "mimetype": "text/x-python",
   "name": "python",
   "nbconvert_exporter": "python",
   "pygments_lexer": "ipython3",
   "version": "3.10.8"
  }
 },
 "nbformat": 4,
 "nbformat_minor": 5
}
