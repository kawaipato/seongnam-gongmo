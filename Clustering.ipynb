{
 "cells": [
  {
   "cell_type": "markdown",
   "metadata": {},
   "source": [
    "### 파일 불러오기"
   ]
  },
  {
   "cell_type": "code",
   "execution_count": 2,
   "metadata": {},
   "outputs": [
    {
     "data": {
      "text/html": [
       "<div>\n",
       "<style scoped>\n",
       "    .dataframe tbody tr th:only-of-type {\n",
       "        vertical-align: middle;\n",
       "    }\n",
       "\n",
       "    .dataframe tbody tr th {\n",
       "        vertical-align: top;\n",
       "    }\n",
       "\n",
       "    .dataframe thead th {\n",
       "        text-align: right;\n",
       "    }\n",
       "</style>\n",
       "<table border=\"1\" class=\"dataframe\">\n",
       "  <thead>\n",
       "    <tr style=\"text-align: right;\">\n",
       "      <th></th>\n",
       "      <th>pa</th>\n",
       "      <th>ep</th>\n",
       "      <th>fp</th>\n",
       "      <th>yp</th>\n",
       "      <th>cctv</th>\n",
       "      <th>light</th>\n",
       "      <th>nb</th>\n",
       "    </tr>\n",
       "  </thead>\n",
       "  <tbody>\n",
       "    <tr>\n",
       "      <th>0</th>\n",
       "      <td>0.757896</td>\n",
       "      <td>0.238218</td>\n",
       "      <td>0.178516</td>\n",
       "      <td>0.0</td>\n",
       "      <td>0.000000</td>\n",
       "      <td>0.592419</td>\n",
       "      <td>0.250172</td>\n",
       "    </tr>\n",
       "    <tr>\n",
       "      <th>1</th>\n",
       "      <td>0.749224</td>\n",
       "      <td>0.000000</td>\n",
       "      <td>0.000000</td>\n",
       "      <td>0.0</td>\n",
       "      <td>0.000000</td>\n",
       "      <td>0.735251</td>\n",
       "      <td>0.250172</td>\n",
       "    </tr>\n",
       "    <tr>\n",
       "      <th>2</th>\n",
       "      <td>0.749224</td>\n",
       "      <td>0.000000</td>\n",
       "      <td>0.000000</td>\n",
       "      <td>0.0</td>\n",
       "      <td>0.000000</td>\n",
       "      <td>0.655714</td>\n",
       "      <td>0.250172</td>\n",
       "    </tr>\n",
       "    <tr>\n",
       "      <th>3</th>\n",
       "      <td>0.749224</td>\n",
       "      <td>0.000000</td>\n",
       "      <td>0.000000</td>\n",
       "      <td>0.0</td>\n",
       "      <td>0.000000</td>\n",
       "      <td>0.628545</td>\n",
       "      <td>0.320499</td>\n",
       "    </tr>\n",
       "    <tr>\n",
       "      <th>4</th>\n",
       "      <td>0.727538</td>\n",
       "      <td>0.000000</td>\n",
       "      <td>0.000000</td>\n",
       "      <td>0.0</td>\n",
       "      <td>0.529358</td>\n",
       "      <td>0.539505</td>\n",
       "      <td>0.363463</td>\n",
       "    </tr>\n",
       "  </tbody>\n",
       "</table>\n",
       "</div>"
      ],
      "text/plain": [
       "         pa        ep        fp   yp      cctv     light        nb\n",
       "0  0.757896  0.238218  0.178516  0.0  0.000000  0.592419  0.250172\n",
       "1  0.749224  0.000000  0.000000  0.0  0.000000  0.735251  0.250172\n",
       "2  0.749224  0.000000  0.000000  0.0  0.000000  0.655714  0.250172\n",
       "3  0.749224  0.000000  0.000000  0.0  0.000000  0.628545  0.320499\n",
       "4  0.727538  0.000000  0.000000  0.0  0.529358  0.539505  0.363463"
      ]
     },
     "execution_count": 2,
     "metadata": {},
     "output_type": "execute_result"
    }
   ],
   "source": [
    "import numpy as np\n",
    "import pandas as pd\n",
    "df = pd.read_csv(\"df_std.csv\",encoding='euc-kr')\n",
    "df.drop(columns='gid',inplace=True)\n",
    "df.head()"
   ]
  },
  {
   "cell_type": "markdown",
   "metadata": {},
   "source": [
    "### UMAP"
   ]
  },
  {
   "cell_type": "code",
   "execution_count": 6,
   "metadata": {},
   "outputs": [],
   "source": [
    "def get_umap(df, n_neighbors, min_dist, metrics):\n",
    "    '''\n",
    "    n_neighbors가 작을수록 지역적 구조가 강조됨\n",
    "    min_dist: 포인트 간의 거리 지정하기\n",
    "    '''\n",
    "    import umap\n",
    "    clustering_embedding = umap.UMAP(\n",
    "    n_neighbors=n_neighbors, # 5~ 50 기본값 15\n",
    "    min_dist=min_dist, # 0.001~ 0.5 기본값 0.1\n",
    "    n_components=2,\n",
    "    random_state=42,\n",
    "    metric = metrics\n",
    "    ).fit_transform(df.values)\n",
    "    return clustering_embedding # 100, 0.005"
   ]
  },
  {
   "cell_type": "markdown",
   "metadata": {},
   "source": [
    "### HDBSCAN 클러스터링"
   ]
  },
  {
   "cell_type": "code",
   "execution_count": 3,
   "metadata": {},
   "outputs": [],
   "source": [
    "def get_hdbscan(embedding, min_cluster_size, min_samples):\n",
    "    '''\n",
    "    min_cluster_size(군집의 최소 크기)와 min_samples(노이즈로 간주되는 최소 점의 수)만 인자로 받아서\n",
    "    hdbscan진행하기\n",
    "    '''\n",
    "    import hdbscan\n",
    "    labels = hdbscan.HDBSCAN(\n",
    "    algorithm='best', alpha=1.0, approx_min_span_tree=True,\n",
    "    gen_min_span_tree=True, leaf_size=40,\n",
    "    metric='euclidean', min_cluster_size=min_cluster_size, min_samples=min_samples\n",
    "    ).fit_predict(embedding)\n",
    "    return labels # 800~1000"
   ]
  },
  {
   "cell_type": "code",
   "execution_count": 4,
   "metadata": {},
   "outputs": [],
   "source": [
    "def get_all_cluster(embedding,labels):\n",
    "    import matplotlib.pyplot as plt\n",
    "    # 노이즈 포인트 다 포함\n",
    "    plt.scatter(embedding[:, 0], embedding[:, 1],\n",
    "                c=labels,s=0.1, cmap='Spectral')\n",
    "    plt.show()\n",
    "def get_noise_cluster(embedding,labels):\n",
    "    import matplotlib.pyplot as plt\n",
    "    # 노이즈 포인트만\n",
    "    clustered = (labels >= 0)\n",
    "    plt.scatter(embedding[~clustered, 0],\n",
    "                embedding[~clustered, 1],\n",
    "                color=(0.5, 0.5, 0.5),\n",
    "                s=0.1,\n",
    "                alpha=0.5)\n",
    "    plt.show()\n",
    "def get_cluster(embedding,labels):\n",
    "    import matplotlib.pyplot as plt\n",
    "    # 노이즈 포인트 제외\n",
    "    clustered = (labels >= 0)\n",
    "    plt.scatter(embedding[clustered, 0],\n",
    "                embedding[clustered, 1],\n",
    "                c=labels[clustered],\n",
    "                s=0.1,\n",
    "                cmap='Spectral')\n",
    "    plt.show()"
   ]
  },
  {
   "cell_type": "code",
   "execution_count": 5,
   "metadata": {},
   "outputs": [],
   "source": [
    "pd.options.display.float_format = '{:.5f}'.format"
   ]
  },
  {
   "cell_type": "markdown",
   "metadata": {},
   "source": [
    "### MinMax 스케일링 해보기"
   ]
  },
  {
   "cell_type": "code",
   "execution_count": 10,
   "metadata": {},
   "outputs": [],
   "source": [
    "def get_scaler(df):\n",
    "    from sklearn.preprocessing import MinMaxScaler\n",
    "    scaler = MinMaxScaler()\n",
    "    scaled_df = scaler.fit_transform(df.values)\n",
    "    scaled_df = pd.DataFrame(data=scaled_df, index=df.index, columns=df.columns)\n",
    "    return scaled_df"
   ]
  },
  {
   "cell_type": "markdown",
   "metadata": {},
   "source": [
    "### Standard 스케일링 해보기"
   ]
  },
  {
   "cell_type": "code",
   "execution_count": 11,
   "metadata": {},
   "outputs": [],
   "source": [
    "def get_standard_scaler(df):\n",
    "    from sklearn.preprocessing import StandardScaler\n",
    "    scaler = StandardScaler()\n",
    "    scaled_df = scaler.fit_transform(df.values)\n",
    "    scaled_df = pd.DataFrame(data=scaled_df, index=df.index, columns=df.columns)\n",
    "    return scaled_df"
   ]
  },
  {
   "cell_type": "markdown",
   "metadata": {},
   "source": [
    "### 로버스트 스케일러 해보기"
   ]
  },
  {
   "cell_type": "code",
   "execution_count": 12,
   "metadata": {},
   "outputs": [],
   "source": [
    "def get_robust_scaler(df):\n",
    "    from sklearn.preprocessing import RobustScaler\n",
    "    scaler = RobustScaler()\n",
    "    scaled_df = scaler.fit_transform(df.values)\n",
    "    scaled_df = pd.DataFrame(data=scaled_df, index=df.index, columns=df.columns)\n",
    "    return scaled_df"
   ]
  },
  {
   "cell_type": "markdown",
   "metadata": {},
   "source": [
    "### 군집화 평가 점수 "
   ]
  },
  {
   "cell_type": "markdown",
   "metadata": {},
   "source": [
    "#### 군집화 평가 지수를 추출하기 위한 데이터프레임 만들기"
   ]
  },
  {
   "cell_type": "code",
   "execution_count": 13,
   "metadata": {},
   "outputs": [],
   "source": [
    "def get_umap_df(df,embedding,labels):\n",
    "    '''\n",
    "    embedding: umap을 사용한 결과\n",
    "    df: 기존 데이터프레임\n",
    "    을 받아와서 umap 결과와 라벨을 받아오는 데이터프레임을 리턴하는 함수입니다.\n",
    "    '''\n",
    "    umap_df = pd.DataFrame(embedding, columns=['UMAP1', 'UMAP2'], index=df.index)\n",
    "    umap_df[\"label\"] = labels\n",
    "    return umap_df"
   ]
  },
  {
   "cell_type": "markdown",
   "metadata": {},
   "source": [
    "#### 1) 노이즈 제거 클러스터링 결과 (get_without_noise_optics)\n",
    "- 실루엣 점수 : 클러스터의 밀집도와 분리도를 모두 고려하여 평가하는 지표\n",
    "- 범위는 -1 ~ 1\n",
    "- 1에 가까울수록 좋은 군집화 결과를 나타냄"
   ]
  },
  {
   "cell_type": "code",
   "execution_count": 14,
   "metadata": {},
   "outputs": [],
   "source": [
    "def silhouette(clustering_result) : \n",
    "    from sklearn.metrics import silhouette_score\n",
    "\n",
    "    # 클러스터링 결과에서 노이즈 포인트 제외한 데이터와 클러스터 레이 추출\n",
    "    X = clustering_result[['UMAP1', 'UMAP2']]\n",
    "    labels = clustering_result['label']\n",
    "\n",
    "    # 실루엣 점수 계산\n",
    "    silhouette_avg = silhouette_score(X, labels)\n",
    "\n",
    "    return silhouette_avg"
   ]
  },
  {
   "cell_type": "markdown",
   "metadata": {},
   "source": [
    "#### Dunn 지수 (군집화의 일관성) :\n",
    "\n",
    "- 군집 내의 응집도와 군집 간 분리도를 모두 고려하여 군집화의 품질을 평가\n",
    "- 클러스터 내 거리와 클러스터 간 거리의 비율을 이용해 계산\n",
    "- Dunn 지수: Dunn 지수가 0.7 이상 = 잘 분리된 클러스터가 형성 => 클러스터링 결과가 좋다고 평가\n",
    "                    = Dunn 지수가 작다는 것은 각 클러스터 간의 거리가 가깝지 않다"
   ]
  },
  {
   "cell_type": "code",
   "execution_count": 15,
   "metadata": {},
   "outputs": [],
   "source": [
    "# Dunn 지수 계산 함수\n",
    "def dunn(clustering_result):\n",
    "    from sklearn.metrics import davies_bouldin_score\n",
    "    from sklearn.neighbors import DistanceMetric\n",
    "    dist = DistanceMetric.get_metric('euclidean')\n",
    "    labels = clustering_result['label']\n",
    "    clusters = np.unique(labels)\n",
    "    centroids = [np.mean(clustering_result.loc[labels==i, ['UMAP1', 'UMAP2']], axis=0) for i in clusters]\n",
    "    max_intracluster_distances = [np.max(dist.pairwise(clustering_result.loc[labels==i, ['UMAP1', 'UMAP2']])) for i in clusters]\n",
    "    min_intercluster_distances = []\n",
    "    for i, c1 in enumerate(centroids):\n",
    "        for j, c2 in enumerate(centroids):\n",
    "            if i < j:\n",
    "                dist_ij = dist.pairwise([c1, c2])[0][1]\n",
    "                min_intercluster_distances.append(dist_ij)\n",
    "    return np.min(min_intercluster_distances) / np.max(max_intracluster_distances)"
   ]
  },
  {
   "cell_type": "markdown",
   "metadata": {},
   "source": [
    "#### Calinski-Harabasz 지수 (군집화의 분리력) :\n",
    "\n",
    "- 군집화 결과가 실제로 잘 분리되어 있는지를 판단하는 지표\n",
    "- 각 군집의 분산이 커질수록, 각 군집 간의 거리가 멀어질수록 높은 값"
   ]
  },
  {
   "cell_type": "code",
   "execution_count": 16,
   "metadata": {},
   "outputs": [],
   "source": [
    "# Calinski-Harabasz 지수 계산 함수\n",
    "def calinski_harabasz(clustering_result):\n",
    "    from sklearn.metrics import calinski_harabasz_score\n",
    "    labels = clustering_result['label']\n",
    "    return calinski_harabasz_score(clustering_result[['UMAP1', 'UMAP2']], labels)"
   ]
  },
  {
   "cell_type": "code",
   "execution_count": 23,
   "metadata": {
    "scrolled": true
   },
   "outputs": [
    {
     "data": {
      "image/png": "[encoded data removed]",
      "text/plain": [
       "<Figure size 640x480 with 1 Axes>"
      ]
     },
     "metadata": {},
     "output_type": "display_data"
    },
    {
     "name": "stdout",
     "output_type": "stream",
     "text": [
      "None\n",
      "0.31650037 0.44014960643807016 498.8888535154914 300\n"
     ]
    },
    {
     "name": "stderr",
     "output_type": "stream",
     "text": [
      "/Users/seoihwan/anaconda3/envs/pato/lib/python3.10/site-packages/sklearn/neighbors/_distance_metric.py:10: FutureWarning: sklearn.neighbors.DistanceMetric has been moved to sklearn.metrics.DistanceMetric in 1.0. This import path will be removed in 1.3\n",
      "  warnings.warn(\n",
      "/Users/seoihwan/anaconda3/envs/pato/lib/python3.10/site-packages/sklearn/neighbors/_distance_metric.py:10: FutureWarning: sklearn.neighbors.DistanceMetric has been moved to sklearn.metrics.DistanceMetric in 1.0. This import path will be removed in 1.3\n",
      "  warnings.warn(\n"
     ]
    },
    {
     "data": {
      "image/png": "[encoded data removed]",
      "text/plain": [
       "<Figure size 640x480 with 1 Axes>"
      ]
     },
     "metadata": {},
     "output_type": "display_data"
    },
    {
     "name": "stdout",
     "output_type": "stream",
     "text": [
      "None\n"
     ]
    },
    {
     "ename": "ValueError",
     "evalue": "Found array with 0 sample(s) (shape=(0, 2)) while a minimum of 1 is required.",
     "output_type": "error",
     "traceback": [
      "\u001b[0;31m---------------------------------------------------------------------------\u001b[0m",
      "\u001b[0;31mValueError\u001b[0m                                Traceback (most recent call last)",
      "Cell \u001b[0;32mIn[23], line 11\u001b[0m\n\u001b[1;32m      9\u001b[0m \u001b[38;5;28mprint\u001b[39m(get_cluster(umap_embedding,labels))\n\u001b[1;32m     10\u001b[0m umap_df \u001b[38;5;241m=\u001b[39m get_umap_df(df,umap_embedding,labels)\n\u001b[0;32m---> 11\u001b[0m \u001b[38;5;28mprint\u001b[39m(\u001b[43msilhouette\u001b[49m\u001b[43m(\u001b[49m\u001b[43mumap_df\u001b[49m\u001b[43m[\u001b[49m\u001b[43mumap_df\u001b[49m\u001b[43m[\u001b[49m\u001b[38;5;124;43m'\u001b[39;49m\u001b[38;5;124;43mlabel\u001b[39;49m\u001b[38;5;124;43m'\u001b[39;49m\u001b[43m]\u001b[49m\u001b[43m \u001b[49m\u001b[38;5;241;43m!=\u001b[39;49m\u001b[43m \u001b[49m\u001b[38;5;241;43m-\u001b[39;49m\u001b[38;5;241;43m1\u001b[39;49m\u001b[43m]\u001b[49m\u001b[43m)\u001b[49m, dunn(umap_df[umap_df[\u001b[38;5;124m'\u001b[39m\u001b[38;5;124mlabel\u001b[39m\u001b[38;5;124m'\u001b[39m] \u001b[38;5;241m!=\u001b[39m \u001b[38;5;241m-\u001b[39m\u001b[38;5;241m1\u001b[39m]), calinski_harabasz(umap_df[umap_df[\u001b[38;5;124m'\u001b[39m\u001b[38;5;124mlabel\u001b[39m\u001b[38;5;124m'\u001b[39m] \u001b[38;5;241m!=\u001b[39m \u001b[38;5;241m-\u001b[39m\u001b[38;5;241m1\u001b[39m]), i)\n\u001b[1;32m     12\u001b[0m \u001b[38;5;66;03m# 데이터프레임으로 저장하기\u001b[39;00m\n\u001b[1;32m     13\u001b[0m silhouette_scores\u001b[38;5;241m.\u001b[39mappend(silhouette(umap_df[umap_df[\u001b[38;5;124m'\u001b[39m\u001b[38;5;124mlabel\u001b[39m\u001b[38;5;124m'\u001b[39m] \u001b[38;5;241m!=\u001b[39m \u001b[38;5;241m-\u001b[39m\u001b[38;5;241m1\u001b[39m]))\n",
      "Cell \u001b[0;32mIn[14], line 9\u001b[0m, in \u001b[0;36msilhouette\u001b[0;34m(clustering_result)\u001b[0m\n\u001b[1;32m      6\u001b[0m labels \u001b[38;5;241m=\u001b[39m clustering_result[\u001b[38;5;124m'\u001b[39m\u001b[38;5;124mlabel\u001b[39m\u001b[38;5;124m'\u001b[39m]\n\u001b[1;32m      8\u001b[0m \u001b[38;5;66;03m# 실루엣 점수 계산\u001b[39;00m\n\u001b[0;32m----> 9\u001b[0m silhouette_avg \u001b[38;5;241m=\u001b[39m \u001b[43msilhouette_score\u001b[49m\u001b[43m(\u001b[49m\u001b[43mX\u001b[49m\u001b[43m,\u001b[49m\u001b[43m \u001b[49m\u001b[43mlabels\u001b[49m\u001b[43m)\u001b[49m\n\u001b[1;32m     11\u001b[0m \u001b[38;5;28;01mreturn\u001b[39;00m silhouette_avg\n",
      "File \u001b[0;32m~/anaconda3/envs/pato/lib/python3.10/site-packages/sklearn/metrics/cluster/_unsupervised.py:117\u001b[0m, in \u001b[0;36msilhouette_score\u001b[0;34m(X, labels, metric, sample_size, random_state, **kwds)\u001b[0m\n\u001b[1;32m    115\u001b[0m     \u001b[38;5;28;01melse\u001b[39;00m:\n\u001b[1;32m    116\u001b[0m         X, labels \u001b[38;5;241m=\u001b[39m X[indices], labels[indices]\n\u001b[0;32m--> 117\u001b[0m \u001b[38;5;28;01mreturn\u001b[39;00m np\u001b[38;5;241m.\u001b[39mmean(\u001b[43msilhouette_samples\u001b[49m\u001b[43m(\u001b[49m\u001b[43mX\u001b[49m\u001b[43m,\u001b[49m\u001b[43m \u001b[49m\u001b[43mlabels\u001b[49m\u001b[43m,\u001b[49m\u001b[43m \u001b[49m\u001b[43mmetric\u001b[49m\u001b[38;5;241;43m=\u001b[39;49m\u001b[43mmetric\u001b[49m\u001b[43m,\u001b[49m\u001b[43m \u001b[49m\u001b[38;5;241;43m*\u001b[39;49m\u001b[38;5;241;43m*\u001b[39;49m\u001b[43mkwds\u001b[49m\u001b[43m)\u001b[49m)\n",
      "File \u001b[0;32m~/anaconda3/envs/pato/lib/python3.10/site-packages/sklearn/metrics/cluster/_unsupervised.py:212\u001b[0m, in \u001b[0;36msilhouette_samples\u001b[0;34m(X, labels, metric, **kwds)\u001b[0m\n\u001b[1;32m    152\u001b[0m \u001b[38;5;28;01mdef\u001b[39;00m \u001b[38;5;21msilhouette_samples\u001b[39m(X, labels, \u001b[38;5;241m*\u001b[39m, metric\u001b[38;5;241m=\u001b[39m\u001b[38;5;124m\"\u001b[39m\u001b[38;5;124meuclidean\u001b[39m\u001b[38;5;124m\"\u001b[39m, \u001b[38;5;241m*\u001b[39m\u001b[38;5;241m*\u001b[39mkwds):\n\u001b[1;32m    153\u001b[0m \u001b[38;5;250m    \u001b[39m\u001b[38;5;124;03m\"\"\"Compute the Silhouette Coefficient for each sample.\u001b[39;00m\n\u001b[1;32m    154\u001b[0m \n\u001b[1;32m    155\u001b[0m \u001b[38;5;124;03m    The Silhouette Coefficient is a measure of how well samples are clustered\u001b[39;00m\n\u001b[0;32m   (...)\u001b[0m\n\u001b[1;32m    210\u001b[0m \u001b[38;5;124;03m       <https://en.wikipedia.org/wiki/Silhouette_(clustering)>`_\u001b[39;00m\n\u001b[1;32m    211\u001b[0m \u001b[38;5;124;03m    \"\"\"\u001b[39;00m\n\u001b[0;32m--> 212\u001b[0m     X, labels \u001b[38;5;241m=\u001b[39m \u001b[43mcheck_X_y\u001b[49m\u001b[43m(\u001b[49m\u001b[43mX\u001b[49m\u001b[43m,\u001b[49m\u001b[43m \u001b[49m\u001b[43mlabels\u001b[49m\u001b[43m,\u001b[49m\u001b[43m \u001b[49m\u001b[43maccept_sparse\u001b[49m\u001b[38;5;241;43m=\u001b[39;49m\u001b[43m[\u001b[49m\u001b[38;5;124;43m\"\u001b[39;49m\u001b[38;5;124;43mcsc\u001b[39;49m\u001b[38;5;124;43m\"\u001b[39;49m\u001b[43m,\u001b[49m\u001b[43m \u001b[49m\u001b[38;5;124;43m\"\u001b[39;49m\u001b[38;5;124;43mcsr\u001b[39;49m\u001b[38;5;124;43m\"\u001b[39;49m\u001b[43m]\u001b[49m\u001b[43m)\u001b[49m\n\u001b[1;32m    214\u001b[0m     \u001b[38;5;66;03m# Check for non-zero diagonal entries in precomputed distance matrix\u001b[39;00m\n\u001b[1;32m    215\u001b[0m     \u001b[38;5;28;01mif\u001b[39;00m metric \u001b[38;5;241m==\u001b[39m \u001b[38;5;124m\"\u001b[39m\u001b[38;5;124mprecomputed\u001b[39m\u001b[38;5;124m\"\u001b[39m:\n",
      "File \u001b[0;32m~/anaconda3/envs/pato/lib/python3.10/site-packages/sklearn/utils/validation.py:1106\u001b[0m, in \u001b[0;36mcheck_X_y\u001b[0;34m(X, y, accept_sparse, accept_large_sparse, dtype, order, copy, force_all_finite, ensure_2d, allow_nd, multi_output, ensure_min_samples, ensure_min_features, y_numeric, estimator)\u001b[0m\n\u001b[1;32m   1101\u001b[0m         estimator_name \u001b[38;5;241m=\u001b[39m _check_estimator_name(estimator)\n\u001b[1;32m   1102\u001b[0m     \u001b[38;5;28;01mraise\u001b[39;00m \u001b[38;5;167;01mValueError\u001b[39;00m(\n\u001b[1;32m   1103\u001b[0m         \u001b[38;5;124mf\u001b[39m\u001b[38;5;124m\"\u001b[39m\u001b[38;5;132;01m{\u001b[39;00mestimator_name\u001b[38;5;132;01m}\u001b[39;00m\u001b[38;5;124m requires y to be passed, but the target y is None\u001b[39m\u001b[38;5;124m\"\u001b[39m\n\u001b[1;32m   1104\u001b[0m     )\n\u001b[0;32m-> 1106\u001b[0m X \u001b[38;5;241m=\u001b[39m \u001b[43mcheck_array\u001b[49m\u001b[43m(\u001b[49m\n\u001b[1;32m   1107\u001b[0m \u001b[43m    \u001b[49m\u001b[43mX\u001b[49m\u001b[43m,\u001b[49m\n\u001b[1;32m   1108\u001b[0m \u001b[43m    \u001b[49m\u001b[43maccept_sparse\u001b[49m\u001b[38;5;241;43m=\u001b[39;49m\u001b[43maccept_sparse\u001b[49m\u001b[43m,\u001b[49m\n\u001b[1;32m   1109\u001b[0m \u001b[43m    \u001b[49m\u001b[43maccept_large_sparse\u001b[49m\u001b[38;5;241;43m=\u001b[39;49m\u001b[43maccept_large_sparse\u001b[49m\u001b[43m,\u001b[49m\n\u001b[1;32m   1110\u001b[0m \u001b[43m    \u001b[49m\u001b[43mdtype\u001b[49m\u001b[38;5;241;43m=\u001b[39;49m\u001b[43mdtype\u001b[49m\u001b[43m,\u001b[49m\n\u001b[1;32m   1111\u001b[0m \u001b[43m    \u001b[49m\u001b[43morder\u001b[49m\u001b[38;5;241;43m=\u001b[39;49m\u001b[43morder\u001b[49m\u001b[43m,\u001b[49m\n\u001b[1;32m   1112\u001b[0m \u001b[43m    \u001b[49m\u001b[43mcopy\u001b[49m\u001b[38;5;241;43m=\u001b[39;49m\u001b[43mcopy\u001b[49m\u001b[43m,\u001b[49m\n\u001b[1;32m   1113\u001b[0m \u001b[43m    \u001b[49m\u001b[43mforce_all_finite\u001b[49m\u001b[38;5;241;43m=\u001b[39;49m\u001b[43mforce_all_finite\u001b[49m\u001b[43m,\u001b[49m\n\u001b[1;32m   1114\u001b[0m \u001b[43m    \u001b[49m\u001b[43mensure_2d\u001b[49m\u001b[38;5;241;43m=\u001b[39;49m\u001b[43mensure_2d\u001b[49m\u001b[43m,\u001b[49m\n\u001b[1;32m   1115\u001b[0m \u001b[43m    \u001b[49m\u001b[43mallow_nd\u001b[49m\u001b[38;5;241;43m=\u001b[39;49m\u001b[43mallow_nd\u001b[49m\u001b[43m,\u001b[49m\n\u001b[1;32m   1116\u001b[0m \u001b[43m    \u001b[49m\u001b[43mensure_min_samples\u001b[49m\u001b[38;5;241;43m=\u001b[39;49m\u001b[43mensure_min_samples\u001b[49m\u001b[43m,\u001b[49m\n\u001b[1;32m   1117\u001b[0m \u001b[43m    \u001b[49m\u001b[43mensure_min_features\u001b[49m\u001b[38;5;241;43m=\u001b[39;49m\u001b[43mensure_min_features\u001b[49m\u001b[43m,\u001b[49m\n\u001b[1;32m   1118\u001b[0m \u001b[43m    \u001b[49m\u001b[43mestimator\u001b[49m\u001b[38;5;241;43m=\u001b[39;49m\u001b[43mestimator\u001b[49m\u001b[43m,\u001b[49m\n\u001b[1;32m   1119\u001b[0m \u001b[43m    \u001b[49m\u001b[43minput_name\u001b[49m\u001b[38;5;241;43m=\u001b[39;49m\u001b[38;5;124;43m\"\u001b[39;49m\u001b[38;5;124;43mX\u001b[39;49m\u001b[38;5;124;43m\"\u001b[39;49m\u001b[43m,\u001b[49m\n\u001b[1;32m   1120\u001b[0m \u001b[43m\u001b[49m\u001b[43m)\u001b[49m\n\u001b[1;32m   1122\u001b[0m y \u001b[38;5;241m=\u001b[39m _check_y(y, multi_output\u001b[38;5;241m=\u001b[39mmulti_output, y_numeric\u001b[38;5;241m=\u001b[39my_numeric, estimator\u001b[38;5;241m=\u001b[39mestimator)\n\u001b[1;32m   1124\u001b[0m check_consistent_length(X, y)\n",
      "File \u001b[0;32m~/anaconda3/envs/pato/lib/python3.10/site-packages/sklearn/utils/validation.py:931\u001b[0m, in \u001b[0;36mcheck_array\u001b[0;34m(array, accept_sparse, accept_large_sparse, dtype, order, copy, force_all_finite, ensure_2d, allow_nd, ensure_min_samples, ensure_min_features, estimator, input_name)\u001b[0m\n\u001b[1;32m    929\u001b[0m     n_samples \u001b[38;5;241m=\u001b[39m _num_samples(array)\n\u001b[1;32m    930\u001b[0m     \u001b[38;5;28;01mif\u001b[39;00m n_samples \u001b[38;5;241m<\u001b[39m ensure_min_samples:\n\u001b[0;32m--> 931\u001b[0m         \u001b[38;5;28;01mraise\u001b[39;00m \u001b[38;5;167;01mValueError\u001b[39;00m(\n\u001b[1;32m    932\u001b[0m             \u001b[38;5;124m\"\u001b[39m\u001b[38;5;124mFound array with \u001b[39m\u001b[38;5;132;01m%d\u001b[39;00m\u001b[38;5;124m sample(s) (shape=\u001b[39m\u001b[38;5;132;01m%s\u001b[39;00m\u001b[38;5;124m) while a\u001b[39m\u001b[38;5;124m\"\u001b[39m\n\u001b[1;32m    933\u001b[0m             \u001b[38;5;124m\"\u001b[39m\u001b[38;5;124m minimum of \u001b[39m\u001b[38;5;132;01m%d\u001b[39;00m\u001b[38;5;124m is required\u001b[39m\u001b[38;5;132;01m%s\u001b[39;00m\u001b[38;5;124m.\u001b[39m\u001b[38;5;124m\"\u001b[39m\n\u001b[1;32m    934\u001b[0m             \u001b[38;5;241m%\u001b[39m (n_samples, array\u001b[38;5;241m.\u001b[39mshape, ensure_min_samples, context)\n\u001b[1;32m    935\u001b[0m         )\n\u001b[1;32m    937\u001b[0m \u001b[38;5;28;01mif\u001b[39;00m ensure_min_features \u001b[38;5;241m>\u001b[39m \u001b[38;5;241m0\u001b[39m \u001b[38;5;129;01mand\u001b[39;00m array\u001b[38;5;241m.\u001b[39mndim \u001b[38;5;241m==\u001b[39m \u001b[38;5;241m2\u001b[39m:\n\u001b[1;32m    938\u001b[0m     n_features \u001b[38;5;241m=\u001b[39m array\u001b[38;5;241m.\u001b[39mshape[\u001b[38;5;241m1\u001b[39m]\n",
      "\u001b[0;31mValueError\u001b[0m: Found array with 0 sample(s) (shape=(0, 2)) while a minimum of 1 is required."
     ]
    }
   ],
   "source": [
    "silhouette_scores=[]\n",
    "dunn_scores=[]\n",
    "calinski_harabasz_scores = []\n",
    "neighbor = [50, 75, 100]\n",
    "clu_size= [300, 500, 600, 700, 800, 900, 1000, 1100 ,1200, 1300, 1400 ,1500, 1600, 1700]\n",
    "umap_embedding = get_umap(df, 110, 0.000, 'euclidean')\n",
    "for i in clu_size:\n",
    "    labels = get_hdbscan(umap_embedding, i, 5)\n",
    "    print(get_cluster(umap_embedding,labels))\n",
    "    umap_df = get_umap_df(df,umap_embedding,labels)\n",
    "    print(silhouette(umap_df[umap_df['label'] != -1]), dunn(umap_df[umap_df['label'] != -1]), calinski_harabasz(umap_df[umap_df['label'] != -1]), i)\n",
    "    # 데이터프레임으로 저장하기\n",
    "    silhouette_scores.append(silhouette(umap_df[umap_df['label'] != -1]))\n",
    "    dunn_scores.append(dunn(umap_df[umap_df['label'] != -1]))\n",
    "    calinski_harabasz_scores.append(calinski_harabasz(umap_df[umap_df['label'] != -1]))\n",
    "    "
   ]
  },
  {
   "cell_type": "code",
   "execution_count": 25,
   "metadata": {},
   "outputs": [
    {
     "ename": "NameError",
     "evalue": "name 'eval_df' is not defined",
     "output_type": "error",
     "traceback": [
      "\u001b[0;31m---------------------------------------------------------------------------\u001b[0m",
      "\u001b[0;31mNameError\u001b[0m                                 Traceback (most recent call last)",
      "Cell \u001b[0;32mIn[25], line 3\u001b[0m\n\u001b[1;32m      1\u001b[0m \u001b[38;5;28;01mimport\u001b[39;00m \u001b[38;5;21;01mmatplotlib\u001b[39;00m\u001b[38;5;21;01m.\u001b[39;00m\u001b[38;5;21;01mpyplot\u001b[39;00m \u001b[38;5;28;01mas\u001b[39;00m \u001b[38;5;21;01mplt\u001b[39;00m\n\u001b[1;32m      2\u001b[0m fig, ax \u001b[38;5;241m=\u001b[39m plt\u001b[38;5;241m.\u001b[39msubplots(figsize\u001b[38;5;241m=\u001b[39m(\u001b[38;5;241m8\u001b[39m,\u001b[38;5;241m6\u001b[39m))\n\u001b[0;32m----> 3\u001b[0m ax\u001b[38;5;241m.\u001b[39mplot(\u001b[43meval_df\u001b[49m[\u001b[38;5;124m'\u001b[39m\u001b[38;5;124mCluster Size\u001b[39m\u001b[38;5;124m'\u001b[39m], eval_df[\u001b[38;5;124m'\u001b[39m\u001b[38;5;124mSilhouette Score\u001b[39m\u001b[38;5;124m'\u001b[39m], label\u001b[38;5;241m=\u001b[39m\u001b[38;5;124m'\u001b[39m\u001b[38;5;124mSilhouette Score\u001b[39m\u001b[38;5;124m'\u001b[39m)\n\u001b[1;32m      4\u001b[0m ax\u001b[38;5;241m.\u001b[39mplot(eval_df[\u001b[38;5;124m'\u001b[39m\u001b[38;5;124mCluster Size\u001b[39m\u001b[38;5;124m'\u001b[39m], eval_df[\u001b[38;5;124m'\u001b[39m\u001b[38;5;124mDunn Score\u001b[39m\u001b[38;5;124m'\u001b[39m], label\u001b[38;5;241m=\u001b[39m\u001b[38;5;124m'\u001b[39m\u001b[38;5;124mDunn Score\u001b[39m\u001b[38;5;124m'\u001b[39m)\n\u001b[1;32m      5\u001b[0m ax\u001b[38;5;241m.\u001b[39mset_xlabel(\u001b[38;5;124m'\u001b[39m\u001b[38;5;124mCluster Size\u001b[39m\u001b[38;5;124m'\u001b[39m)\n",
      "\u001b[0;31mNameError\u001b[0m: name 'eval_df' is not defined"
     ]
    },
    {
     "data": {
      "image/png": "[encoded data removed]",
      "text/plain": [
       "<Figure size 800x600 with 1 Axes>"
      ]
     },
     "metadata": {},
     "output_type": "display_data"
    }
   ],
   "source": [
    "import matplotlib.pyplot as plt\n",
    "fig, ax = plt.subplots(figsize=(8,6))\n",
    "ax.plot(eval_df['Cluster Size'], eval_df['Silhouette Score'], label='Silhouette Score')\n",
    "ax.plot(eval_df['Cluster Size'], eval_df['Dunn Score'], label='Dunn Score')\n",
    "ax.set_xlabel('Cluster Size')\n",
    "ax.set_ylabel('Evaluation Metric Score')\n",
    "ax.legend()\n",
    "plt.show()\n",
    "plt.plot(eval_df['Cluster Size'], eval_df['Calinski-Harabasz Score'], label='Calinski-Harabasz Score')\n",
    "plt.xlabel('Cluster Size')\n",
    "plt.ylabel('Evaluation Metric Score')\n",
    "plt.show()"
   ]
  },
  {
   "cell_type": "code",
   "execution_count": null,
   "metadata": {},
   "outputs": [],
   "source": []
  }
 ],
 "metadata": {
  "kernelspec": {
   "display_name": "Python 3 (ipykernel)",
   "language": "python",
   "name": "python3"
  },
  "language_info": {
   "codemirror_mode": {
    "name": "ipython",
    "version": 3
   },
   "file_extension": ".py",
   "mimetype": "text/x-python",
   "name": "python",
   "nbconvert_exporter": "python",
   "pygments_lexer": "ipython3",
   "version": "3.10.8"
  }
 },
 "nbformat": 4,
 "nbformat_minor": 2
}
